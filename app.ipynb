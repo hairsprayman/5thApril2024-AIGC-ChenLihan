{
 "cells": [
  {
   "cell_type": "code",
   "execution_count": 5,
   "metadata": {},
   "outputs": [],
   "source": [
    "from flask import Flask, request, render_template\n",
    "import sqlite3\n",
    "import datetime\n",
    "from flask import Markup\n",
    "import replicate\n",
    "import os"
   ]
  },
  {
   "cell_type": "code",
   "execution_count": 6,
   "metadata": {},
   "outputs": [],
   "source": [
    "os.environ[\"REPLICATE_API_TOKEN\"]=\"r8_XEwoXPlC1BRp2nI2ED6tKpSVvJdx8Sh1r1L49\"\n",
    "app = Flask(__name__)\n",
    "\n",
    "name_flag =0\n",
    "name = \"\"\n",
    "\n",
    "@app.route(\"/\", methods=[\"GET\",\"POST\"])\n",
    "def index():\n",
    "    return(render_template(\"index.html\"))\n",
    "\n",
    "@app.route(\"/main\", methods=[\"GET\",\"POST\"])\n",
    "def main():\n",
    "    global name_flag,name\n",
    "    if name_flag == 0:\n",
    "        name = request.form.get(\"name\")\n",
    "        name_flag = 1\n",
    "        conn = sqlite3.connect('log.db')\n",
    "        c = conn.cursor()\n",
    "\n",
    "        timestamp = datetime.datetime.now()\n",
    "        c.execute(\"INSERT INTO employee (name,timestamp) VALUES(?,?)\",(name,timestamp))\n",
    "        conn.commit()\n",
    "        c.close()\n",
    "        conn.close()\n",
    "\n",
    "    return(render_template(\"main.html\", name = name))\n",
    "\n",
    "@app.route(\"/query\", methods=[\"GET\",\"POST\"])\n",
    "def query():\n",
    "    conn = sqlite3.connect('log.db')\n",
    "    c = conn.execute(\"select * from employee\")\n",
    "    r = \"\"\n",
    "    for row in c:\n",
    "        r = r+str(row)+\"<br>\"\n",
    "    r = Markup(r)\n",
    "    c.close()\n",
    "    conn.close()\n",
    "    return(render_template(\"query.html\",r = r))\n",
    "\n",
    "\n",
    "@app.route(\"/ethical_test\", methods=[\"GET\",\"POST\"])\n",
    "def ethical_test():\n",
    "    return(render_template(\"ethical_test.html\"))\n",
    "\n",
    "@app.route(\"/delete\", methods=[\"GET\",\"POST\"])\n",
    "def delete():\n",
    "    conn = sqlite3.connect('log.db')\n",
    "    c = conn.cursor()\n",
    "    c.execute(\"delete from employee;\")\n",
    "    conn.commit()\n",
    "    c.close()\n",
    "    conn.close()\n",
    "    return(render_template(\"delete.html\"))\n",
    "\n",
    "@app.route(\"/answer\", methods=[\"GET\",\"POST\"])\n",
    "def answer():\n",
    "    ans = request.form[\"options\"]\n",
    "    print(ans)\n",
    "    if ans == \"true\":\n",
    "        return(render_template(\"wrong.html\"))\n",
    "    else:\n",
    "        return(render_template(\"correct.html\"))\n",
    "\n",
    "@app.route(\"/food_exp\", methods=[\"GET\",\"POST\"])\n",
    "def food_exp():\n",
    "    return(render_template(\"food_exp.html\"))\n",
    "\n",
    "@app.route(\"/music\", methods=[\"GET\",\"POST\"])\n",
    "def music():\n",
    "    return(render_template(\"music.html\"))\n",
    "\n",
    "@app.route(\"/music_generator\", methods=[\"GET\",\"POST\"])\n",
    "def music_generator():\n",
    "    q = request.form.get(\"q\")\n",
    "    r = replicate.run(\"meta/musicgen:7be0f12c54a8d033a0fbd14418c9af98962da9a86f5ff7811f9b3423a1f0b7d7\",\n",
    "    input={\n",
    "        \"prompt\": q,\n",
    "        \"duration\": 5\n",
    "        }\n",
    "    )\n",
    "    return(render_template(\"music_generator.html\",r = r))\n",
    "\n",
    "@app.route(\"/prediction\", methods=[\"GET\",\"POST\"])\n",
    "def prediction():\n",
    "    income = float(request.form.get(\"income\"))\n",
    "    return(render_template(\"prediction.html\", r = (income * 0.485) + 147))\n",
    "\n",
    "\n",
    "\n",
    "@app.route(\"/end\", methods=[\"GET\",\"POST\"])\n",
    "def end():\n",
    "    return(render_template(\"end.html\"))\n",
    "\n"
   ]
  },
  {
   "cell_type": "code",
   "execution_count": 7,
   "metadata": {},
   "outputs": [
    {
     "name": "stdout",
     "output_type": "stream",
     "text": [
      " * Serving Flask app '__main__'\n",
      " * Debug mode: off\n"
     ]
    },
    {
     "name": "stderr",
     "output_type": "stream",
     "text": [
      "WARNING: This is a development server. Do not use it in a production deployment. Use a production WSGI server instead.\n",
      " * Running on http://127.0.0.1:5000\n",
      "Press CTRL+C to quit\n",
      "127.0.0.1 - - [06/Apr/2024 16:50:52] \"GET / HTTP/1.1\" 200 -\n",
      "127.0.0.1 - - [06/Apr/2024 16:50:56] \"GET /favicon.ico HTTP/1.1\" 404 -\n",
      "127.0.0.1 - - [06/Apr/2024 16:51:16] \"POST /main HTTP/1.1\" 200 -\n",
      "127.0.0.1 - - [06/Apr/2024 16:51:19] \"POST /music HTTP/1.1\" 200 -\n",
      "127.0.0.1 - - [06/Apr/2024 16:51:52] \"POST /music_generator HTTP/1.1\" 200 -\n",
      "127.0.0.1 - - [06/Apr/2024 16:51:56] \"GET /favicon.ico HTTP/1.1\" 404 -\n",
      "127.0.0.1 - - [06/Apr/2024 16:52:04] \"POST /main HTTP/1.1\" 200 -\n",
      "127.0.0.1 - - [06/Apr/2024 16:52:06] \"POST /music HTTP/1.1\" 200 -\n"
     ]
    },
    {
     "ename": "",
     "evalue": "",
     "output_type": "error",
     "traceback": [
      "\u001b[1;31mThe Kernel crashed while executing code in the current cell or a previous cell. \n",
      "\u001b[1;31mPlease review the code in the cell(s) to identify a possible cause of the failure. \n",
      "\u001b[1;31mClick <a href='https://aka.ms/vscodeJupyterKernelCrash'>here</a> for more info. \n",
      "\u001b[1;31mView Jupyter <a href='command:jupyter.viewOutput'>log</a> for further details."
     ]
    }
   ],
   "source": [
    "if __name__ == \"__main__\":\n",
    "    app.run()"
   ]
  }
 ],
 "metadata": {
  "kernelspec": {
   "display_name": "base",
   "language": "python",
   "name": "python3"
  },
  "language_info": {
   "codemirror_mode": {
    "name": "ipython",
    "version": 3
   },
   "file_extension": ".py",
   "mimetype": "text/x-python",
   "name": "python",
   "nbconvert_exporter": "python",
   "pygments_lexer": "ipython3",
   "version": "3.11.3"
  }
 },
 "nbformat": 4,
 "nbformat_minor": 2
}
